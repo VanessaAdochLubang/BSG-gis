{
  "nbformat": 4,
  "nbformat_minor": 0,
  "metadata": {
    "colab": {
      "provenance": [],
      "authorship_tag": "ABX9TyM1xD6/IYahb1MtwLaM+PyG",
      "include_colab_link": true
    },
    "kernelspec": {
      "name": "python3",
      "display_name": "Python 3"
    },
    "language_info": {
      "name": "python"
    }
  },
  "cells": [
    {
      "cell_type": "markdown",
      "metadata": {
        "id": "view-in-github",
        "colab_type": "text"
      },
      "source": [
        "<a href=\"https://colab.research.google.com/github/VanessaAdochLubang/BSG-gis/blob/main/Real_first_program_.ipynb\" target=\"_parent\"><img src=\"https://colab.research.google.com/assets/colab-badge.svg\" alt=\"Open In Colab\"/></a>"
      ]
    },
    {
      "cell_type": "code",
      "execution_count": 1,
      "metadata": {
        "colab": {
          "base_uri": "https://localhost:8080/"
        },
        "id": "FFzbf6AXThcq",
        "outputId": "f655d2d8-9d7b-4788-ad23-9527d30a794b"
      },
      "outputs": [
        {
          "output_type": "stream",
          "name": "stdout",
          "text": [
            "Hello World\n"
          ]
        }
      ],
      "source": [
        "print(\"Hello World\")"
      ]
    },
    {
      "cell_type": "code",
      "source": [
        "print(\"Vanessa is a superstar\")"
      ],
      "metadata": {
        "colab": {
          "base_uri": "https://localhost:8080/"
        },
        "id": "ov4I7hSAWoxM",
        "outputId": "a1197de9-48fe-41b1-dc60-f1919864f498"
      },
      "execution_count": 5,
      "outputs": [
        {
          "output_type": "stream",
          "name": "stdout",
          "text": [
            "Vanessa is a superstar\n"
          ]
        }
      ]
    },
    {
      "cell_type": "code",
      "source": [
        "type(\"Vanessa\")"
      ],
      "metadata": {
        "colab": {
          "base_uri": "https://localhost:8080/"
        },
        "id": "cagYU6j9dOch",
        "outputId": "9b310b6f-3158-4d18-b572-d850fe023233"
      },
      "execution_count": 14,
      "outputs": [
        {
          "output_type": "execute_result",
          "data": {
            "text/plain": [
              "str"
            ]
          },
          "metadata": {},
          "execution_count": 14
        }
      ]
    },
    {
      "cell_type": "code",
      "source": [
        "type (True)"
      ],
      "metadata": {
        "colab": {
          "base_uri": "https://localhost:8080/"
        },
        "id": "uWNfb264eRWE",
        "outputId": "289d30aa-ef1f-4ba9-a148-d72ccf594b71"
      },
      "execution_count": 16,
      "outputs": [
        {
          "output_type": "execute_result",
          "data": {
            "text/plain": [
              "bool"
            ]
          },
          "metadata": {},
          "execution_count": 16
        }
      ]
    },
    {
      "cell_type": "code",
      "source": [
        "name = \"Vanessa\"\n",
        "print(name)"
      ],
      "metadata": {
        "colab": {
          "base_uri": "https://localhost:8080/"
        },
        "id": "zgR01wrde_mg",
        "outputId": "bac90450-17d9-4a35-b8e3-c16289f1a8d4"
      },
      "execution_count": 18,
      "outputs": [
        {
          "output_type": "stream",
          "name": "stdout",
          "text": [
            "Vanessa\n"
          ]
        }
      ]
    },
    {
      "cell_type": "code",
      "source": [
        "f_name = \"Lubang\"\n",
        "L_name = \"Adoch\"\n",
        "name = f_name + \" \" + L_name"
      ],
      "metadata": {
        "id": "ANk6WtiUgUzd"
      },
      "execution_count": 31,
      "outputs": []
    },
    {
      "cell_type": "code",
      "source": [
        "print(name)"
      ],
      "metadata": {
        "colab": {
          "base_uri": "https://localhost:8080/"
        },
        "id": "kplqxMs8gdfo",
        "outputId": "862ee547-d991-4efd-e32b-85d771b5717f"
      },
      "execution_count": 32,
      "outputs": [
        {
          "output_type": "stream",
          "name": "stdout",
          "text": [
            "Lubang Adoch\n"
          ]
        }
      ]
    }
  ]
}