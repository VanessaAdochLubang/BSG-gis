{
  "nbformat": 4,
  "nbformat_minor": 0,
  "metadata": {
    "colab": {
      "provenance": [],
      "authorship_tag": "ABX9TyP+4FUbM+g2Mwt6Lb9UUZPt",
      "include_colab_link": true
    },
    "kernelspec": {
      "name": "python3",
      "display_name": "Python 3"
    },
    "language_info": {
      "name": "python"
    }
  },
  "cells": [
    {
      "cell_type": "markdown",
      "metadata": {
        "id": "view-in-github",
        "colab_type": "text"
      },
      "source": [
        "<a href=\"https://colab.research.google.com/github/VanessaAdochLubang/BSG-gis/blob/main/Take_home_assignment_.ipynb\" target=\"_parent\"><img src=\"https://colab.research.google.com/assets/colab-badge.svg\" alt=\"Open In Colab\"/></a>"
      ]
    },
    {
      "cell_type": "markdown",
      "source": [
        "Simple Variable Assignment"
      ],
      "metadata": {
        "id": "0ItILJ_gWq6d"
      }
    },
    {
      "cell_type": "code",
      "source": [
        "# Declare two variables, x and y, and assign them values. Print their values and types\n",
        "x = 2\n",
        "y = 3"
      ],
      "metadata": {
        "id": "fgWHDRxanrQh"
      },
      "execution_count": null,
      "outputs": []
    },
    {
      "cell_type": "code",
      "source": [
        "type (x)\n"
      ],
      "metadata": {
        "colab": {
          "base_uri": "https://localhost:8080/"
        },
        "id": "dT4KchRMn-fj",
        "outputId": "ee82b17f-b707-4e01-f5af-69d7545c5ee4"
      },
      "execution_count": null,
      "outputs": [
        {
          "output_type": "execute_result",
          "data": {
            "text/plain": [
              "int"
            ]
          },
          "metadata": {},
          "execution_count": 2
        }
      ]
    },
    {
      "cell_type": "code",
      "source": [
        "type(y)"
      ],
      "metadata": {
        "colab": {
          "base_uri": "https://localhost:8080/"
        },
        "id": "NgalBB89ohYd",
        "outputId": "70242040-913d-4675-de7c-64a140f35a53"
      },
      "execution_count": null,
      "outputs": [
        {
          "output_type": "execute_result",
          "data": {
            "text/plain": [
              "int"
            ]
          },
          "metadata": {},
          "execution_count": 3
        }
      ]
    },
    {
      "cell_type": "code",
      "source": [
        "print(x,y)"
      ],
      "metadata": {
        "colab": {
          "base_uri": "https://localhost:8080/"
        },
        "id": "0bU2DReCom9m",
        "outputId": "c9a3ca9b-b563-4e9e-bb10-d625387e39f9"
      },
      "execution_count": null,
      "outputs": [
        {
          "output_type": "stream",
          "name": "stdout",
          "text": [
            "2 3\n"
          ]
        }
      ]
    },
    {
      "cell_type": "markdown",
      "source": [
        "Print Statement"
      ],
      "metadata": {
        "id": "oFWXWg4VXrt-"
      }
    },
    {
      "cell_type": "code",
      "source": [
        "# Use the print function to display a message like \"Hello, World!\" on the screen."
      ],
      "metadata": {
        "id": "oxDlXIVeX4SM"
      },
      "execution_count": null,
      "outputs": []
    },
    {
      "cell_type": "code",
      "source": [
        "print (\"Hello, World!\")"
      ],
      "metadata": {
        "colab": {
          "base_uri": "https://localhost:8080/"
        },
        "id": "Icle0fPIYBqr",
        "outputId": "25a35b53-564c-43bf-944b-08bac2ae4ef9"
      },
      "execution_count": null,
      "outputs": [
        {
          "output_type": "stream",
          "name": "stdout",
          "text": [
            "Hello, World!\n"
          ]
        }
      ]
    },
    {
      "cell_type": "markdown",
      "source": [
        "Variable Concatenation"
      ],
      "metadata": {
        "id": "tk-doQ-LYLGF"
      }
    },
    {
      "cell_type": "code",
      "source": [
        "# Declare two string variables, concatenate them, and print the result\n",
        "str_1 = \"Hello\"\n",
        "str_2 = \"Vannie\"\n",
        "str_3 = str_1 + \" \" + str_2"
      ],
      "metadata": {
        "id": "EtVgEQE6YQal"
      },
      "execution_count": null,
      "outputs": []
    },
    {
      "cell_type": "code",
      "source": [
        "print(str_3)"
      ],
      "metadata": {
        "colab": {
          "base_uri": "https://localhost:8080/"
        },
        "id": "Jz1Wq9MgZHxP",
        "outputId": "0f6dc1ac-c21b-4fc1-d014-0db99d622f45"
      },
      "execution_count": null,
      "outputs": [
        {
          "output_type": "stream",
          "name": "stdout",
          "text": [
            "Hello Vannie\n"
          ]
        }
      ]
    },
    {
      "cell_type": "markdown",
      "source": [
        "Numeric Operations"
      ],
      "metadata": {
        "id": "xtKaNhvXaesJ"
      }
    },
    {
      "cell_type": "code",
      "source": [
        "# Declare two numeric variables, perform basic arithmetic operations on them, and print the results with appropriate messages\n",
        "x = 144\n",
        "y = 5.869\n",
        "\n",
        "XY = x * y\n",
        "\n",
        "print (XY)"
      ],
      "metadata": {
        "colab": {
          "base_uri": "https://localhost:8080/"
        },
        "id": "cIJtFOyxagxD",
        "outputId": "fbcad2b2-ba23-4dca-c513-edad14c93c1a"
      },
      "execution_count": null,
      "outputs": [
        {
          "output_type": "stream",
          "name": "stdout",
          "text": [
            "845.136\n"
          ]
        }
      ]
    },
    {
      "cell_type": "code",
      "source": [
        "print(x-y)"
      ],
      "metadata": {
        "colab": {
          "base_uri": "https://localhost:8080/"
        },
        "id": "QSWMp2Bochek",
        "outputId": "6db9b3a0-8ad2-459a-93fa-c81be1ccbf4b"
      },
      "execution_count": null,
      "outputs": [
        {
          "output_type": "stream",
          "name": "stdout",
          "text": [
            "138.131\n"
          ]
        }
      ]
    },
    {
      "cell_type": "code",
      "source": [
        "print((x*28)/y)"
      ],
      "metadata": {
        "colab": {
          "base_uri": "https://localhost:8080/"
        },
        "id": "jtZ1jK3Scnro",
        "outputId": "303c85e5-92d8-41c8-a764-0e90c49054d6"
      },
      "execution_count": null,
      "outputs": [
        {
          "output_type": "stream",
          "name": "stdout",
          "text": [
            "686.999488839666\n"
          ]
        }
      ]
    },
    {
      "cell_type": "markdown",
      "source": [
        "String Repetition"
      ],
      "metadata": {
        "id": "gAvm2U1Nc7pN"
      }
    },
    {
      "cell_type": "code",
      "source": [
        "# Declare a string variable and use the * operator to repeat it multiple times. Print the result."
      ],
      "metadata": {
        "id": "8ObQOnWRdEsI"
      },
      "execution_count": null,
      "outputs": []
    },
    {
      "cell_type": "code",
      "source": [
        "name = \"Life is good, \" \"\"\n",
        "result = name * 4\n",
        "print (result)"
      ],
      "metadata": {
        "colab": {
          "base_uri": "https://localhost:8080/"
        },
        "id": "uBhLrU8IeUkg",
        "outputId": "71126498-0774-44e8-9d8e-8d23861f3e9a"
      },
      "execution_count": null,
      "outputs": [
        {
          "output_type": "stream",
          "name": "stdout",
          "text": [
            "Life is good, Life is good, Life is good, Life is good, \n"
          ]
        }
      ]
    },
    {
      "cell_type": "markdown",
      "source": [
        "Variable Swap"
      ],
      "metadata": {
        "id": "Mld8Oz5zdMm7"
      }
    },
    {
      "cell_type": "code",
      "source": [
        "# Declare two variables and swap their values. Print the values before and after the swap"
      ],
      "metadata": {
        "id": "SSh6KRdVdQ1w"
      },
      "execution_count": null,
      "outputs": []
    },
    {
      "cell_type": "code",
      "source": [
        "a = 50\n",
        "b = 34\n",
        "\n",
        "print(\"Before swap\")\n",
        "print(\"a =\", a)\n",
        "print(\"b =\", b)\n"
      ],
      "metadata": {
        "colab": {
          "base_uri": "https://localhost:8080/"
        },
        "id": "_bUyHjNdz8DJ",
        "outputId": "be1c5e72-e24d-41b8-9ba4-77b1ab66b54a"
      },
      "execution_count": 2,
      "outputs": [
        {
          "output_type": "stream",
          "name": "stdout",
          "text": [
            "Before swap\n",
            "a = 50\n",
            "b = 34\n"
          ]
        }
      ]
    },
    {
      "cell_type": "code",
      "source": [
        "print(\"After swap\")\n",
        "print(\"a =\", b)\n",
        "print(\"b =\", a)"
      ],
      "metadata": {
        "colab": {
          "base_uri": "https://localhost:8080/"
        },
        "id": "TDItzLpO0fD5",
        "outputId": "7c7053d0-cc25-47ce-b10a-3e8e3e320f15"
      },
      "execution_count": 4,
      "outputs": [
        {
          "output_type": "stream",
          "name": "stdout",
          "text": [
            "After swap\n",
            "a = 34\n",
            "b = 50\n"
          ]
        }
      ]
    },
    {
      "cell_type": "markdown",
      "source": [
        "String Length"
      ],
      "metadata": {
        "id": "gJfjzuWvdXhV"
      }
    },
    {
      "cell_type": "code",
      "source": [
        "# Declare a string variable and print its length using the len() function"
      ],
      "metadata": {
        "id": "P6ToyAYZdb4_"
      },
      "execution_count": null,
      "outputs": []
    },
    {
      "cell_type": "code",
      "source": [
        "salutation = \"Hello there, Sir\"\n",
        "print(len(salutation))"
      ],
      "metadata": {
        "colab": {
          "base_uri": "https://localhost:8080/"
        },
        "id": "Yc-whJb_1QBL",
        "outputId": "902daeac-5eed-43ca-d007-ce64a006b7b8"
      },
      "execution_count": 6,
      "outputs": [
        {
          "output_type": "stream",
          "name": "stdout",
          "text": [
            "16\n"
          ]
        }
      ]
    },
    {
      "cell_type": "markdown",
      "source": [
        "Type Conversion"
      ],
      "metadata": {
        "id": "IaiWDJfrdhTl"
      }
    },
    {
      "cell_type": "code",
      "source": [
        "# Declare a numeric variable and a string variable. Convert the numeric variable to a string and concatenate it with the string variable. Print the result."
      ],
      "metadata": {
        "id": "Zo3JcE2Idmjo"
      },
      "execution_count": null,
      "outputs": []
    },
    {
      "cell_type": "code",
      "source": [
        "num = 42\n",
        "text = \"The answer is \"\n",
        "result = f\"{text}{num}\"\n"
      ],
      "metadata": {
        "id": "UoFK7LCO1wxp"
      },
      "execution_count": 3,
      "outputs": []
    },
    {
      "cell_type": "code",
      "source": [
        "print(result)"
      ],
      "metadata": {
        "colab": {
          "base_uri": "https://localhost:8080/"
        },
        "id": "c5tnjL_5Qysa",
        "outputId": "e794dc42-888e-49f9-d58b-fe34a23c0015"
      },
      "execution_count": 4,
      "outputs": [
        {
          "output_type": "stream",
          "name": "stdout",
          "text": [
            "The answer is 42\n"
          ]
        }
      ]
    },
    {
      "cell_type": "markdown",
      "source": [
        "Formatted String"
      ],
      "metadata": {
        "id": "OoVBIM5MduKf"
      }
    },
    {
      "cell_type": "code",
      "source": [
        "# Declare two variables with numeric values. Create a formatted string that includes the values and print it."
      ],
      "metadata": {
        "id": "LqIh8WTsdzwS"
      },
      "execution_count": null,
      "outputs": []
    },
    {
      "cell_type": "code",
      "source": [
        "x = 35\n",
        "b = 56\n",
        "\n",
        "g = f\"The value of x is {x} and the value of b is {b}\"\n"
      ],
      "metadata": {
        "id": "SW71Y2gE3Xxt"
      },
      "execution_count": 18,
      "outputs": []
    },
    {
      "cell_type": "code",
      "source": [
        "print(g)"
      ],
      "metadata": {
        "colab": {
          "base_uri": "https://localhost:8080/"
        },
        "id": "HWhR1ovS3qFU",
        "outputId": "7ed9ed50-7872-407f-be32-8ab42517eb0f"
      },
      "execution_count": 19,
      "outputs": [
        {
          "output_type": "stream",
          "name": "stdout",
          "text": [
            "The value of x is 35 and the value of b is 56\n"
          ]
        }
      ]
    }
  ]
}